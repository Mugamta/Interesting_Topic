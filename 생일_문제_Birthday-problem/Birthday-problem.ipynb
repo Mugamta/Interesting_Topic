{
 "cells": [
  {
   "cell_type": "markdown",
   "id": "75d40669",
   "metadata": {},
   "source": [
    "# 생일 문제 (Birthday-problem)  \n",
    "\n",
    "#### 최소한 몇 명이 모여야 그 중에 생일이 같은 사람이 있을 확률이 50%를 넘을까?"
   ]
  },
  {
   "cell_type": "markdown",
   "id": "8be3f002",
   "metadata": {},
   "source": [
    "### 1. 비둘기집 원리\n",
    "\n",
    "#### N+1개의 비둘기가 N개의 비둘기집에 들어간다면, 하나 이상의 비둘기집에는 비둘기가 두 마리 이상 존재한다.  \n",
    "즉, 367명의 사람이 있다면 윤년을 포함하여 366일에서 반드시 생일이 같은 사람이 있다."
   ]
  },
  {
   "cell_type": "markdown",
   "id": "3a72dcd1",
   "metadata": {},
   "source": [
    "#### 직관적으로는, 이의 절반인 183명 정도가 있으면 50%일것처럼 보인다.\n",
    "실제로 그런지 코드로 한번 살펴보자."
   ]
  },
  {
   "cell_type": "markdown",
   "id": "48d6c25f",
   "metadata": {},
   "source": [
    "### 2. 코드를 통한 분석"
   ]
  },
  {
   "cell_type": "markdown",
   "id": "365f6f30",
   "metadata": {},
   "source": [
    "우선, 인원 수를 정해야 한다.  \n",
    "여기서는 우선 183이라고 가정해두자."
   ]
  },
  {
   "cell_type": "code",
   "execution_count": 1,
   "id": "6aa06c5f",
   "metadata": {},
   "outputs": [],
   "source": [
    "people_number = 183"
   ]
  },
  {
   "cell_type": "markdown",
   "id": "40770603",
   "metadata": {},
   "source": [
    "이제 랜덤으로 사람의 인원만큼 생일을 추출해야 한다."
   ]
  },
  {
   "cell_type": "code",
   "execution_count": 2,
   "id": "46d008dc",
   "metadata": {},
   "outputs": [],
   "source": [
    "from random import randint  # 랜덤 라이브러리\n",
    "\n",
    "birthday_set = set()  # 생일이 겹치는지 set으로 판별하자.\n",
    "for _ in range(people_number):\n",
    "    birthday_set.add(randint(0, 365))  # 0 ~ 365 (윤년을 포함하여 366일)"
   ]
  },
  {
   "cell_type": "markdown",
   "id": "6e3f4edb",
   "metadata": {},
   "source": [
    "이제 이를 함수로 만들어, 충분히 많은 시도횟수로 시도하자."
   ]
  },
  {
   "cell_type": "code",
   "execution_count": 3,
   "id": "aeaa4547",
   "metadata": {},
   "outputs": [],
   "source": [
    "from random import randint  # 랜덤 라이브러리\n",
    "\n",
    "def birthday_problem(people_number):\n",
    "    birthday_set = set()\n",
    "    for _ in range(people_number):\n",
    "        birthday_set.add(randint(0, 365))\n",
    "    \n",
    "    if len(birthday_set) != people_number:  # set의 크기와 사람 인원이 다르다면 생일이 같은 사람이 있다.\n",
    "        return 1\n",
    "    return 0"
   ]
  },
  {
   "cell_type": "code",
   "execution_count": 4,
   "id": "b71b4938",
   "metadata": {},
   "outputs": [
    {
     "data": {
      "application/vnd.jupyter.widget-view+json": {
       "model_id": "0c022adffa984dc3a250ebc2609147bd",
       "version_major": 2,
       "version_minor": 0
      },
      "text/plain": [
       "  0%|          | 0/1000000 [00:00<?, ?it/s]"
      ]
     },
     "metadata": {},
     "output_type": "display_data"
    }
   ],
   "source": [
    "from tqdm.auto import tqdm\n",
    "\n",
    "try_count = 10**6\n",
    "people_number = 183 \n",
    "\n",
    "birthday_same = 0\n",
    "for _ in tqdm(range(try_count)):\n",
    "    birthday_same += birthday_problem(people_number)"
   ]
  },
  {
   "cell_type": "code",
   "execution_count": 5,
   "id": "61c04405",
   "metadata": {},
   "outputs": [
    {
     "name": "stdout",
     "output_type": "stream",
     "text": [
      "사람이 183명일때 생일이 같은 사람이 있을 확률은 1.0\n"
     ]
    }
   ],
   "source": [
    "print(\"사람이 {}명일때 생일이 같은 사람이 있을 확률은 {}\".format(people_number, birthday_same / try_count))"
   ]
  },
  {
   "cell_type": "markdown",
   "id": "46bacc03",
   "metadata": {},
   "source": [
    "### 직관과는 달리, 매우 확률이 높게 나온다.\n",
    "  \n",
    "#### 이는 무의식적으로 \"자신을 기준으로\" 확률을 계산하기 때문이다.\n",
    "즉, 나와 생일이 겹칠 확률을 계산하고 있는 것이다.  \n",
    "  \n",
    "실제로 모든 사람의 생일이 겹치지 않을 확률은 1 - (364 / 365) * (363 / 365)...이다.  "
   ]
  },
  {
   "cell_type": "code",
   "execution_count": 6,
   "id": "1782bd8d",
   "metadata": {},
   "outputs": [],
   "source": [
    "people_number = 183\n",
    "birthday_same_probability = 1\n",
    "for i in range(1, people_number):\n",
    "    birthday_same_probability *= (365 - i) / 365"
   ]
  },
  {
   "cell_type": "code",
   "execution_count": 7,
   "id": "6bca5f62",
   "metadata": {},
   "outputs": [
    {
     "name": "stdout",
     "output_type": "stream",
     "text": [
      "사람이 183명일때 생일이 같은 사람이 없을 실제 확률은 4.780018408223532e-25\n"
     ]
    }
   ],
   "source": [
    "print(\"사람이 {}명일때 생일이 같은 사람이 없을 실제 확률은 {}\".format(people_number, birthday_same_probability))"
   ]
  },
  {
   "cell_type": "markdown",
   "id": "0c08567a",
   "metadata": {},
   "source": [
    "#### 183명일때 생일이 같은 사람이 없을 실제 확률은 매우 낮은 것을 알 수 있다."
   ]
  },
  {
   "cell_type": "markdown",
   "id": "52e4787b",
   "metadata": {},
   "source": [
    "#### 그렇다면, 최소한 몇 명이 모여야 그 중에 생일이 같은 사람이 있을 확률이 50%를 넘을까?\n",
    "당연히 불가능한 1명을 제외하고, 확률이 1이 되는 367명을 제외한 범위를 순회해보자."
   ]
  },
  {
   "cell_type": "code",
   "execution_count": 8,
   "id": "a48a8bc3",
   "metadata": {},
   "outputs": [],
   "source": [
    "# 위의 확률을 함수로 처리\n",
    "def birthday_same_probabilty_function(people_number):\n",
    "    birthday_same_probability = 1\n",
    "    for i in range(1, people_number):\n",
    "        birthday_same_probability *= (366 - i) / 366\n",
    "    return 1 - birthday_same_probability"
   ]
  },
  {
   "cell_type": "code",
   "execution_count": 9,
   "id": "83678bd5",
   "metadata": {},
   "outputs": [
    {
     "name": "stdout",
     "output_type": "stream",
     "text": [
      "사람이  1명일때, 생일이 같은 사람이 있을 확률은 0\n",
      "사람이  2명일때, 생일이 같은 사람이 있을 확률은 0.002732240437158473\n",
      "사람이  3명일때, 생일이 같은 사람이 있을 확률은 0.008181791035862584\n",
      "사람이  4명일때, 생일이 같은 사람이 있을 확률은 0.016311448486388325\n",
      "사람이  5명일때, 생일이 같은 사람이 있을 확률은 0.02706214303844967\n",
      "사람이  6명일때, 생일이 같은 사람이 있을 확률은 0.040353643816612994\n",
      "사람이  7명일때, 생일이 같은 사람이 있을 확률은 0.056085551295029235\n",
      "사람이  8명일때, 생일이 같은 사람이 있을 확률은 0.07413855987681828\n",
      "사람이  9명일때, 생일이 같은 사람이 있을 확률은 0.09437596840410101\n",
      "사람이 10명일때, 생일이 같은 사람이 있을 확률은 0.11664541180400023\n",
      "사람이 11명일때, 생일이 같은 사람이 있을 확률은 0.14078078306618602\n",
      "사람이 12명일때, 생일이 같은 사람이 있을 확률은 0.16660431144397825\n",
      "사람이 13명일때, 생일이 같은 사람이 있을 확률은 0.19392876024909378\n",
      "사람이 14명일때, 생일이 같은 사람이 있을 확률은 0.22255970592330632\n",
      "사람이 15명일때, 생일이 같은 사람이 있을 확률은 0.25229785924864434\n",
      "사람이 16명일때, 생일이 같은 사람이 있을 확률은 0.2829413896073065\n",
      "사람이 17명일때, 생일이 같은 사람이 있을 확률은 0.3142882141053478\n",
      "사람이 18명일때, 생일이 같은 사람이 있을 확률은 0.3461382150895257\n",
      "사람이 19명일때, 생일이 같은 사람이 있을 확률은 0.3782953520523359\n",
      "사람이 20명일때, 생일이 같은 사람이 있을 확률은 0.4105696370550834\n",
      "사람이 21명일때, 생일이 같은 사람이 있을 확률은 0.4427789465056253\n",
      "사람이 22명일때, 생일이 같은 사람이 있을 확률은 0.47475064629628616\n",
      "사람이 23명일때, 생일이 같은 사람이 있을 확률은 0.5063230118194602\n",
      "사람이 24명일때, 생일이 같은 사람이 있을 확률은 0.537346429109494\n",
      "사람이 25명일때, 생일이 같은 사람이 있을 확률은 0.5676843681842814\n",
      "사람이 26명일때, 생일이 같은 사람이 있을 확률은 0.5972141244558469\n",
      "사람이 27명일때, 생일이 같은 사람이 있을 확률은 0.6258273287294751\n",
      "사람이 28명일때, 생일이 같은 사람이 있을 확률은 0.6534302307084483\n",
      "사람이 29명일때, 생일이 같은 사람이 있을 확률은 0.6799437649711899\n",
      "사람이 30명일때, 생일이 같은 사람이 있을 확률은 0.7053034120089918\n",
      "사람이 31명일때, 생일이 같은 사람이 있을 확률은 0.7294588700410416\n",
      "사람이 32명일때, 생일이 같은 사람이 있을 확률은 0.7523735559118824\n",
      "사람이 33명일때, 생일이 같은 사람이 있을 확률은 0.7740239553949965\n",
      "사람이 34명일때, 생일이 같은 사람이 있을 확률은 0.7943988446626608\n",
      "사람이 35명일때, 생일이 같은 사람이 있을 확률은 0.8134984055409928\n",
      "사람이 36명일때, 생일이 같은 사람이 있을 확률은 0.8313332574701329\n",
      "사람이 37명일때, 생일이 같은 사람이 있을 확률은 0.8479234288665132\n",
      "사람이 38명일때, 생일이 같은 사람이 있을 확률은 0.86329728988274\n",
      "사람이 39명일때, 생일이 같은 사람이 있을 확률은 0.8774904674358982\n",
      "사람이 40명일때, 생일이 같은 사람이 있을 확률은 0.89054476188945\n",
      "사람이 41명일때, 생일이 같은 사람이 있을 확률은 0.9025070829944282\n",
      "사람이 42명일때, 생일이 같은 사람이 있을 확률은 0.9134284206917737\n",
      "사람이 43명일때, 생일이 같은 사람이 있을 확률은 0.9233628642189471\n",
      "사람이 44명일때, 생일이 같은 사람이 있을 확률은 0.932366680717814\n",
      "사람이 45명일때, 생일이 같은 사람이 있을 확률은 0.9404974622708637\n",
      "사람이 46명일때, 생일이 같은 사람이 있을 확률은 0.9478133480572329\n",
      "사람이 47명일때, 생일이 같은 사람이 있을 확률은 0.9543723261702582\n",
      "사람이 48명일때, 생일이 같은 사람이 있을 확률은 0.9602316176183399\n",
      "사람이 49명일때, 생일이 같은 사람이 있을 확률은 0.9654471431765904\n",
      "사람이 50명일때, 생일이 같은 사람이 있을 확률은 0.9700730720955715\n",
      "사람이 51명일때, 생일이 같은 사람이 있을 확률은 0.9741614502245918\n",
      "사람이 52명일때, 생일이 같은 사람이 있을 확률은 0.9777619038818207\n",
      "사람이 53명일때, 생일이 같은 사람이 있을 확률은 0.980921414805715\n",
      "사람이 54명일때, 생일이 같은 사람이 있을 확률은 0.9836841607491498\n",
      "사람이 55명일때, 생일이 같은 사람이 있을 확률은 0.9860914157205867\n",
      "사람이 56명일때, 생일이 같은 사람이 있을 확률은 0.9881815035221378\n",
      "사람이 57명일때, 생일이 같은 사람이 있을 확률은 0.9899897980651987\n",
      "사람이 58명일때, 생일이 같은 사람이 있을 확률은 0.9915487639402908\n"
     ]
    }
   ],
   "source": [
    "for people_number in range(1, 367):\n",
    "    print(\"사람이 {:2d}명일때, 생일이 같은 사람이 있을 확률은 {}\".format(people_number, birthday_same_probabilty_function(people_number)))\n",
    "    if birthday_same_probabilty_function(people_number) >= 0.99:\n",
    "        break"
   ]
  },
  {
   "cell_type": "markdown",
   "id": "bb151a47",
   "metadata": {},
   "source": [
    "#### 23명일때 이미 확률이 50%가 넘고, 58명만 되어도 확률이 99%가 넘는다.\n",
    "학교를 다닐 때 같은 반에 생일이 같은 사람이 존재하는 경우를 보고, 신기하다고 생각한 적이 있을 것이다.  \n",
    "하지만 실제 학급이 20~40명 내외기 때문에, 이는 신기한 일이 아니라,  \n",
    "**충분히 발생할 확률이 높은 일임을 알 수 있다.**"
   ]
  },
  {
   "cell_type": "code",
   "execution_count": null,
   "id": "104a1013",
   "metadata": {},
   "outputs": [],
   "source": []
  }
 ],
 "metadata": {
  "kernelspec": {
   "display_name": "Python 3 (ipykernel)",
   "language": "python",
   "name": "python3"
  },
  "language_info": {
   "codemirror_mode": {
    "name": "ipython",
    "version": 3
   },
   "file_extension": ".py",
   "mimetype": "text/x-python",
   "name": "python",
   "nbconvert_exporter": "python",
   "pygments_lexer": "ipython3",
   "version": "3.9.13"
  }
 },
 "nbformat": 4,
 "nbformat_minor": 5
}
