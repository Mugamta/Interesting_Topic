{
 "cells": [
  {
   "cell_type": "markdown",
   "id": "a46883f6",
   "metadata": {},
   "source": [
    "# 몬티홀 문제 (Monty-Hall-problem)  \n",
    "\n",
    "#### 유명한 문제 중 하나로, 인간의 직관과 수학적 확률과의 괴리감을 나타내는 대표적인 문제이다. "
   ]
  },
  {
   "cell_type": "markdown",
   "id": "17d56fb4",
   "metadata": {},
   "source": [
    " "
   ]
  },
  {
   "cell_type": "markdown",
   "id": "daede360",
   "metadata": {},
   "source": [
    "### 규칙  \n",
    "우선, 세 개의 문이 존재하며, 하나의 문 뒤에는 자동차가, 두 개의 문 뒤에는 꽝(염소)가 존재한다.  \n",
    "이는 당연히 문 뒤에 있으므로, 열어보기 전까지는 알 수 없는 정보이다.  \n",
    "  \n",
    "이때, 참가자는 자동차를 고른다면 상품으로 자동차를 얻을 수 있으며, 당연히 이것이 참가자의 목표가 된다."
   ]
  },
  {
   "cell_type": "markdown",
   "id": "7e319fe5",
   "metadata": {},
   "source": [
    "### 임의의 게임 진행의 예시\n",
    "1. 참가자가 하나의 문을 선택한다.\n",
    "\n",
    "2. 상품이 어디있는지 알고 있는 사회자는 남은 2가지 문 중 하나를 열고, 꽝(염소)가 존재한다는 것을 보여준다.\n",
    "\n",
    "3. 이제 참가자는 선택한 문을 바꿀지 말지 선택할 수 있다.  \n",
    "\n",
    "4. 단, 당연히 참가자는 사회자가 열어준, 꽝(염소) 문을 선택하지 않는다."
   ]
  },
  {
   "cell_type": "markdown",
   "id": "eba1a0ea",
   "metadata": {},
   "source": [
    "### 의문\n",
    "직관적으로 살펴보면, 참가자는 지금 문과 바꿀 문, 두 가지의 선택지가 있으므로 확률이 1/2인것처럼 보인다.  \n",
    "실제로 그런지 모든 경우의 수를 살펴보자.  \n",
    "  "
   ]
  },
  {
   "cell_type": "markdown",
   "id": "035a3156",
   "metadata": {},
   "source": [
    "### 1. 자동차, 염소, 염소의 경우"
   ]
  },
  {
   "cell_type": "markdown",
   "id": "9ac7787a",
   "metadata": {},
   "source": [
    "#### 참가자가 처음에 1번 문을 택한 경우\n",
    "이 경우, 사회자는 참가자가 선택하지 않은 문 중, 꽝(염소)가 위치하는 문을 열어야 하므로, 2, 3번 문 중 하나를 열어야 한다.  \n",
    "참가자가 선택을 바꾼다면 (1번에서 2, 3번으로) 차를 얻지 못한다."
   ]
  },
  {
   "cell_type": "markdown",
   "id": "7c7255ab",
   "metadata": {},
   "source": [
    "#### 참가자가 처음에 2번 문을 택한 경우\n",
    "이 경우, 사회자는 참가자가 선택하지 않은 문 중, 꽝(염소)가 위치하는 문을 열어야 하므로, 3번 문을 열어야 한다.  \n",
    "참가자가 선택을 바꿔야 (2번에서 1번으로) 차를 얻을 수 있다."
   ]
  },
  {
   "cell_type": "markdown",
   "id": "a3cbe4f6",
   "metadata": {},
   "source": [
    "#### 참가자가 처음에 3번 문을 택한 경우\n",
    "이 경우, 사회자는 참가자가 선택하지 않은 문 중, 꽝(염소)가 위치하는 문을 열어야 하므로, 2번 문을 열어야 한다.\n",
    "참가자가 선택을 바꿔야 (3번에서 1번으로) 차를 얻을 수 있다."
   ]
  },
  {
   "cell_type": "markdown",
   "id": "a095ba16",
   "metadata": {},
   "source": [
    "### 2. 염소, 자동차, 염소의 경우"
   ]
  },
  {
   "cell_type": "markdown",
   "id": "aa80f6c1",
   "metadata": {},
   "source": [
    "#### 참가자가 처음에 1번 문을 택한 경우\n",
    "이 경우, 사회자는 참가자가 선택하지 않은 문 중, 꽝(염소)가 위치하는 문을 열어야 하므로, 3번 문을 열어야 한다.  \n",
    "참가자가 선택을 바꿔야 (1번에서 2번으로) 차를 얻을 수 있다."
   ]
  },
  {
   "cell_type": "markdown",
   "id": "53ef5a64",
   "metadata": {},
   "source": [
    "#### 참가자가 처음에 2번 문을 택한 경우\n",
    "이 경우, 사회자는 참가자가 선택하지 않은 문 중, 꽝(염소)가 위치하는 문을 열어야 하므로, 1, 3번 문 중 하나를 열어야 한다.  \n",
    "참가자가 선택을 바꾼다면 (2번에서 1, 3번으로) 차를 얻을 수 없다."
   ]
  },
  {
   "cell_type": "markdown",
   "id": "f837b639",
   "metadata": {},
   "source": [
    "#### 참가자가 처음에 3번 문을 택한 경우\n",
    "이 경우, 사회자는 참가자가 선택하지 않은 문 중, 꽝(염소)가 위치하는 문을 열어야 하므로, 1번 문을 열어야 한다.  \n",
    "참가자가 선택을 바꿔야 (3번에서 2번으로) 차를 얻을 수 있다."
   ]
  },
  {
   "cell_type": "markdown",
   "id": "241f9b14",
   "metadata": {},
   "source": [
    "### 3. 염소, 염소, 자동차의 경우"
   ]
  },
  {
   "cell_type": "markdown",
   "id": "95bf23de",
   "metadata": {},
   "source": [
    "#### 참가자가 처음에 1번 문을 택한 경우\n",
    "이 경우, 사회자는 참가자가 선택하지 않은 문 중, 꽝(염소)가 위치하는 문을 열어야 하므로, 2번 문을 열어야 한다.  \n",
    "참가자가 선택을 바꿔야 (1번에서 3번으로) 차를 얻을 수 있다."
   ]
  },
  {
   "cell_type": "markdown",
   "id": "062b7a38",
   "metadata": {},
   "source": [
    "#### 참가자가 처음에 2번 문을 택한 경우\n",
    "이 경우, 사회자는 참가자가 선택하지 않은 문 중, 꽝(염소)가 위치하는 문을 열어야 하므로, 1번 문을 열어야 한다.  \n",
    "참가자가 선택을 바꿔야 (2번에서 3번으로) 차를 얻을 수 있다."
   ]
  },
  {
   "cell_type": "markdown",
   "id": "71737bb3",
   "metadata": {},
   "source": [
    "#### 참가자가 처음에 3번 문을 택한 경우\n",
    "이 경우, 사회자는 참가자가 선택하지 않은 문 중, 꽝(염소)가 위치하는 문을 열어야 하므로, 1, 2번 문 중 하나를 열어야 한다.  \n",
    "참가자가 선택을 바꾼다면 (3번에서 1, 2번으로) 차를 얻을 수 없다."
   ]
  },
  {
   "cell_type": "markdown",
   "id": "e4579186",
   "metadata": {},
   "source": [
    "---\n",
    "### 종합해보면, 9가지 경우의 수에서, 선택을 바꾸는 경우가 6가지로 이득이다.\n",
    "#### 이는 처음 문을 고르는 행위와, 사회자가 문을 하나 열어주는 행위가 독립 시행이 아니기 떄문이다.\n",
    "#### -> 이 문제에서 사회자는 \"반드시\" 염소(꽝)가 있는 문을 열기 때문에, 자동차(상품)을 선택해야 하는 참가자의 선택에 영향을 미친다.  \n",
    "몬티 홀에서 일어나는 사건은 총 두 개로, 하나는 처음 참가자가 문을 선택하는 행위이고, 하나는 사회자가 문을 여는 행위이다.  \n",
    "처음 문을 열었을 때, 해당 위치에 자동차 (상품)이 있을 확률은 1/3이다.  \n",
    "즉, 선택지를 바꾸지 않는다면 이 확률은 변하지 않으므로 1/3이다.  \n",
    "  \n",
    "만약 선택지를 바꾼다면, 위 확률에서 사건이 하나 추가되므로, 이에 대한 조건부 확률을 계산해야 한다.  \n",
    "1. 염소가 있는 문을 선택할 확률은 2/3  \n",
    "2. 이 경우 사회자가 염소가 있는 문을 선택할 확률은 1/1 \n",
    "3. 문을 바꿨을 때 자동차(상품)이 있을 확률은 1/1이다.  \n",
    "  \n",
    "즉, 이 경우 문을 바꾼다면 확률이 2/3이다.  \n",
    "(자동차가 있는 문을 선택한다면 바꾸었을 때 반드시 염소가 선택되므로 확률은 0이다.)\n",
    "\n"
   ]
  },
  {
   "cell_type": "markdown",
   "id": "72e5e6c4",
   "metadata": {},
   "source": [
    "### 실제 코드로도 한 번 살펴보자."
   ]
  },
  {
   "cell_type": "markdown",
   "id": "30c7a474",
   "metadata": {},
   "source": [
    "1. 우선, 자동차, 염소, 염소가 존재하는 세 개의 문을 만든다.  \n",
    "   이는 상품을 숨길 하나의 문을 선택하는 것으로 대체할 수 있다."
   ]
  },
  {
   "cell_type": "code",
   "execution_count": 1,
   "id": "675df0d7",
   "metadata": {},
   "outputs": [],
   "source": [
    "from random import randint  # 랜덤으로 하나의 수를 선택하기 위한 라이브러리\n",
    "from tqdm.auto import tqdm  # 진행상황을 보기 위한 라이브러리\n",
    "\n",
    "car_door = randint(1, 3)"
   ]
  },
  {
   "cell_type": "markdown",
   "id": "cb14216c",
   "metadata": {},
   "source": [
    "2. 참가자의 선택을 만든다."
   ]
  },
  {
   "cell_type": "code",
   "execution_count": 2,
   "id": "77c19165",
   "metadata": {},
   "outputs": [],
   "source": [
    "select = randint(1, 3)"
   ]
  },
  {
   "cell_type": "markdown",
   "id": "edc018b2",
   "metadata": {},
   "source": [
    "3. 사회자는 참가자가 선택하지 않은 문 중 꽝(염소)가 있는 문을 하나 골라 참가자에게 추천한다."
   ]
  },
  {
   "cell_type": "code",
   "execution_count": 3,
   "id": "3e3c3684",
   "metadata": {},
   "outputs": [],
   "source": [
    "while True:\n",
    "    recommendation = randint(1, 3)\n",
    "    if recommendation != car_door and recommendation != select:\n",
    "        break"
   ]
  },
  {
   "cell_type": "markdown",
   "id": "537e605b",
   "metadata": {},
   "source": [
    "4. 이제 참가자는 선택을 바꾸거나, 선택을 바꾸지 않는 경우를 선택한다."
   ]
  },
  {
   "cell_type": "markdown",
   "id": "7442760f",
   "metadata": {},
   "source": [
    "#### 여기까지의 과정을 함수로 정리하면 아래와 같다."
   ]
  },
  {
   "cell_type": "code",
   "execution_count": 4,
   "id": "888c7047",
   "metadata": {},
   "outputs": [],
   "source": [
    "def monty_hall_test(change_flag):  # change_flag에 따라서, 참가자가 선택을 바꿀지 말지를 결정한다.\n",
    "    tmp_car_door = randint(1, 3)\n",
    "    tmp_select = randint(1, 3)\n",
    "    tmp_recommendation = randint(1, 3)\n",
    "    \n",
    "    while tmp_recommendation != tmp_car_door and tmp_recommendation != tmp_select:\n",
    "        tmp_recommendation = randint(1, 3)\n",
    "    \n",
    "    if change_flag:\n",
    "        tmp_select = tmp_recommendation\n",
    "    \n",
    "    if tmp_car_door == tmp_select:  # 참가자가 상품(차)의 문을 선택한다면 성공한 것이므로 1을 리턴한다.\n",
    "        return 1\n",
    "    return 0"
   ]
  },
  {
   "cell_type": "markdown",
   "id": "101333f5",
   "metadata": {},
   "source": [
    "시도 횟수를 충분히 크게 설정하자."
   ]
  },
  {
   "cell_type": "code",
   "execution_count": 5,
   "id": "f12baea5",
   "metadata": {},
   "outputs": [],
   "source": [
    "try_count = 10**7"
   ]
  },
  {
   "cell_type": "markdown",
   "id": "4635bcc7",
   "metadata": {},
   "source": [
    "이제, change_flag가 True인, 즉 참가자가 선택을 바꾸는 경우 상품(차)을 받아가는 경우를 구해보자."
   ]
  },
  {
   "cell_type": "code",
   "execution_count": 6,
   "id": "62f5d56c",
   "metadata": {},
   "outputs": [
    {
     "data": {
      "application/vnd.jupyter.widget-view+json": {
       "model_id": "02a2749b1c30407887c0ed9c234fe5bf",
       "version_major": 2,
       "version_minor": 0
      },
      "text/plain": [
       "  0%|          | 0/10000000 [00:00<?, ?it/s]"
      ]
     },
     "metadata": {},
     "output_type": "display_data"
    }
   ],
   "source": [
    "change_true_result = 0\n",
    "for _ in tqdm(range(try_count)):\n",
    "    change_true_result += monty_hall_test(True)"
   ]
  },
  {
   "cell_type": "markdown",
   "id": "a4a82e9c",
   "metadata": {},
   "source": [
    "반대로 change_flag가 False인, 즉 참가자가 선택을 바꾸지 않는 경우 상품(차)을 받아가는 경우를 구해보자."
   ]
  },
  {
   "cell_type": "code",
   "execution_count": 7,
   "id": "1caf6e77",
   "metadata": {},
   "outputs": [
    {
     "data": {
      "application/vnd.jupyter.widget-view+json": {
       "model_id": "6cdb5a5819f149bd9b6f99543d87cee6",
       "version_major": 2,
       "version_minor": 0
      },
      "text/plain": [
       "  0%|          | 0/10000000 [00:00<?, ?it/s]"
      ]
     },
     "metadata": {},
     "output_type": "display_data"
    }
   ],
   "source": [
    "change_false_result = 0\n",
    "for _ in tqdm(range(try_count)):\n",
    "    change_false_result += monty_hall_test(False)"
   ]
  },
  {
   "cell_type": "markdown",
   "id": "4eb5d385",
   "metadata": {},
   "source": [
    "이제 결과를 출력해보자."
   ]
  },
  {
   "cell_type": "code",
   "execution_count": 8,
   "id": "e6c808a5",
   "metadata": {},
   "outputs": [
    {
     "name": "stdout",
     "output_type": "stream",
     "text": [
      "참가자가 선택을 바꾸는 경우의 확률: 0.6666338\n",
      "참가자가 선택을 바꾸지 않는 경우의 확률: 0.3334388\n"
     ]
    }
   ],
   "source": [
    "print(\"참가자가 선택을 바꾸는 경우의 확률:\", change_true_result / try_count)\n",
    "print(\"참가자가 선택을 바꾸지 않는 경우의 확률:\", change_false_result / try_count)"
   ]
  },
  {
   "cell_type": "markdown",
   "id": "4fe1d7ab",
   "metadata": {},
   "source": [
    "### 실제로 참가자가 선택을 바꾸는 경우의 확률이 2/3에 수렴하고, 바꾸지 않는 경우가 1/3에 수렴함을 알수 있다."
   ]
  }
 ],
 "metadata": {
  "kernelspec": {
   "display_name": "Python 3 (ipykernel)",
   "language": "python",
   "name": "python3"
  },
  "language_info": {
   "codemirror_mode": {
    "name": "ipython",
    "version": 3
   },
   "file_extension": ".py",
   "mimetype": "text/x-python",
   "name": "python",
   "nbconvert_exporter": "python",
   "pygments_lexer": "ipython3",
   "version": "3.9.13"
  }
 },
 "nbformat": 4,
 "nbformat_minor": 5
}
